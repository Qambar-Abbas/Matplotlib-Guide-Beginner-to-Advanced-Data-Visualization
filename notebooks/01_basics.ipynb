{
 "cells": [
  {
   "cell_type": "markdown",
   "metadata": {},
   "source": ["# Module 1: Python Basics & Environment Setup", "\n", "- Python syntax refresher", "\n", "- Virtual environments & Git"]
  }
 ],
 "metadata": {},
 "nbformat": 4,
 "nbformat_minor": 5
}